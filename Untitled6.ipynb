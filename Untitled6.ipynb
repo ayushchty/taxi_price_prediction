{
  "nbformat": 4,
  "nbformat_minor": 0,
  "metadata": {
    "colab": {
      "provenance": [],
      "authorship_tag": "ABX9TyMliXdbIPCVNf0CwXmnP0rF",
      "include_colab_link": true
    },
    "kernelspec": {
      "name": "python3",
      "display_name": "Python 3"
    },
    "language_info": {
      "name": "python"
    }
  },
  "cells": [
    {
      "cell_type": "markdown",
      "metadata": {
        "id": "view-in-github",
        "colab_type": "text"
      },
      "source": [
        "<a href=\"https://colab.research.google.com/github/ayushchty/taxi_price_prediction/blob/main/Untitled6.ipynb\" target=\"_parent\"><img src=\"https://colab.research.google.com/assets/colab-badge.svg\" alt=\"Open In Colab\"/></a>"
      ]
    },
    {
      "cell_type": "code",
      "execution_count": 2,
      "metadata": {
        "id": "nA3qS5QM9xxo"
      },
      "outputs": [],
      "source": [
        "from pyspark.sql import SparkSession\n",
        "from pyspark.sql.functions import col,unix_timestamp,hour,dayofweek,dayofmonth,lit"
      ]
    },
    {
      "cell_type": "code",
      "source": [
        "spark = SparkSession.builder.appName('TaxiFarePrediction').getOrCreate()\n",
        "\n",
        "df = spark.read.csv('sample.csv', header=True, inferSchema=True)\n",
        "\n",
        "df.show(5)"
      ],
      "metadata": {
        "colab": {
          "base_uri": "https://localhost:8080/"
        },
        "id": "ZqrbKK1_-wY0",
        "outputId": "3fca81da-590b-47ae-e487-ebe0e0866c7c"
      },
      "execution_count": 3,
      "outputs": [
        {
          "output_type": "stream",
          "name": "stdout",
          "text": [
            "+-------------------+-----------+-------------------+----------------+---------------+-----------------+----------------+---------------+\n",
            "|                key|fare_amount|    pickup_datetime|pickup_longitude|pickup_latitude|dropoff_longitude|dropoff_latitude|passenger_count|\n",
            "+-------------------+-----------+-------------------+----------------+---------------+-----------------+----------------+---------------+\n",
            "|2011-01-24 18:05:00|        9.3|2011-01-24 18:05:00|      -73.983768|      40.738037|       -73.982185|       40.757298|              1|\n",
            "|2013-04-23 20:57:00|        5.0|2013-04-23 20:57:00|      -73.967943|      40.799842|        -73.96482|       40.810153|              1|\n",
            "|2011-01-09 03:01:00|       16.5|2011-01-09 03:01:00|      -73.983637|      40.760198|       -73.942912|       40.824983|              2|\n",
            "|2010-04-07 04:15:00|        8.1|2010-04-07 04:15:00|      -74.002312|      40.733603|       -73.985807|       40.762793|              2|\n",
            "|2013-11-05 16:53:00|      51.83|2013-11-05 16:53:00|      -73.863982|      40.769815|       -74.009212|       40.715652|              1|\n",
            "+-------------------+-----------+-------------------+----------------+---------------+-----------------+----------------+---------------+\n",
            "only showing top 5 rows\n",
            "\n"
          ]
        }
      ]
    },
    {
      "cell_type": "code",
      "source": [
        "# df=df.filter(col('fare_amount')>0)&(col('pickup_longitude').isNotNull())&(col('pickup_latitude').isNotNull())&(col('dropoff_longitude').isNotNull())&(col('dropoff_latitude').isNotNull())"
      ],
      "metadata": {
        "id": "w-N0UJb3-7sB"
      },
      "execution_count": 7,
      "outputs": []
    },
    {
      "cell_type": "code",
      "source": [
        "df = df.filter((col('fare_amount') > 0) & (col('pickup_longitude').isNotNull()) & (col('pickup_latitude').isNotNull()) & (col('dropoff_longitude').isNotNull()) & (col('dropoff_latitude').isNotNull()))"
      ],
      "metadata": {
        "id": "sRhqVBOvAUDx"
      },
      "execution_count": 6,
      "outputs": []
    },
    {
      "cell_type": "code",
      "source": [
        "df = df.withColumn('pickup_datetime', unix_timestamp('pickup_datetime', 'yyyy-MM-dd HH:mm:ss').cast('timestamp'))\n",
        "df = df.withColumn('hour', hour('pickup_datetime'))\n",
        "df = df.withColumn('weekday', dayofweek('pickup_datetime'))"
      ],
      "metadata": {
        "id": "5EEmlnGkA9Ew"
      },
      "execution_count": 8,
      "outputs": []
    },
    {
      "cell_type": "code",
      "source": [
        "df.show()"
      ],
      "metadata": {
        "colab": {
          "base_uri": "https://localhost:8080/"
        },
        "id": "FDHZfQX5BO39",
        "outputId": "b78271ff-d185-44c1-9037-e52a4e9eca62"
      },
      "execution_count": 14,
      "outputs": [
        {
          "output_type": "stream",
          "name": "stdout",
          "text": [
            "+-------------------+-----------+-------------------+------------------+----------------+------------------+----------------+---------------+----+-------+\n",
            "|                key|fare_amount|    pickup_datetime|  pickup_longitude| pickup_latitude| dropoff_longitude|dropoff_latitude|passenger_count|hour|weekday|\n",
            "+-------------------+-----------+-------------------+------------------+----------------+------------------+----------------+---------------+----+-------+\n",
            "|2011-01-24 18:05:00|        9.3|2011-01-24 18:05:00|        -73.983768|       40.738037|        -73.982185|       40.757298|              1|  18|      2|\n",
            "|2013-04-23 20:57:00|        5.0|2013-04-23 20:57:00|        -73.967943|       40.799842|         -73.96482|       40.810153|              1|  20|      3|\n",
            "|2011-01-09 03:01:00|       16.5|2011-01-09 03:01:00|        -73.983637|       40.760198|        -73.942912|       40.824983|              2|   3|      1|\n",
            "|2010-04-07 04:15:00|        8.1|2010-04-07 04:15:00|        -74.002312|       40.733603|        -73.985807|       40.762793|              2|   4|      4|\n",
            "|2013-11-05 16:53:00|      51.83|2013-11-05 16:53:00|        -73.863982|       40.769815|        -74.009212|       40.715652|              1|  16|      3|\n",
            "|2012-09-22 08:55:00|        6.0|2012-09-22 08:55:00|        -73.981315|       40.737235|        -73.995363|       40.727147|              1|   8|      7|\n",
            "|2014-07-02 11:13:00|        8.5|2014-07-02 11:13:00|         -73.99502|       40.760252|         -73.99167|       40.750097|              1|  11|      4|\n",
            "|2015-03-02 18:24:00|        6.5|2015-03-02 18:24:00|-73.98355865478516|40.7229118347168|-73.98355865478516|40.7229118347168|              1|  18|      2|\n",
            "|2012-10-25 09:54:00|        6.0|2012-10-25 09:54:00|        -73.988803|       40.742032|        -73.991405|       40.729857|              1|   9|      5|\n",
            "|2011-07-21 13:19:22|       20.1|2011-07-21 13:19:22|        -73.977673|        40.73402|        -73.956222|       40.803914|              1|  13|      5|\n",
            "|2012-01-26 11:33:26|        6.9|2012-01-26 11:33:26|        -73.959988|       40.773705|        -73.946316|       40.772626|              1|  11|      5|\n",
            "|2014-10-12 08:03:21|       10.5|2014-10-12 08:03:21|        -73.954558|       40.774135|        -73.987196|       40.761023|              1|   8|      1|\n",
            "|2009-08-01 07:36:00|       12.1|2009-08-01 07:36:00|        -73.948088|        40.78994|        -73.937205|       40.827587|              4|   7|      7|\n",
            "|2011-02-22 07:28:00|        3.7|2011-02-22 07:28:00|        -73.976793|       40.756102|        -73.977407|       40.762525|              1|   7|      3|\n",
            "|2009-01-17 14:19:00|        7.7|2009-01-17 14:19:00|        -73.988357|       40.756992|         -73.99368|       40.753683|              5|  14|      7|\n",
            "|2013-08-20 04:58:00|      30.33|2013-08-20 04:58:00|        -73.955457|       40.819867|         -73.86548|       40.770825|              5|   4|      3|\n",
            "|2014-03-19 22:50:00|        5.5|2014-03-19 22:50:00|         -73.98308|       40.744015|        -73.996143|       40.737145|              1|  22|      4|\n",
            "|2014-06-12 22:57:00|        7.0|2014-06-12 22:57:00|        -73.969208|       40.676828|        -73.956772|        40.65964|              1|  22|      5|\n",
            "|2014-10-29 07:35:00|        9.0|2014-10-29 07:35:00|        -73.972208|        40.78133|        -73.951677|       40.769692|              2|   7|      4|\n",
            "|2011-06-13 10:17:04|        5.7|2011-06-13 10:17:04|        -73.976535|       40.763928|        -73.968834|       40.768972|              1|  10|      2|\n",
            "+-------------------+-----------+-------------------+------------------+----------------+------------------+----------------+---------------+----+-------+\n",
            "only showing top 20 rows\n",
            "\n"
          ]
        }
      ]
    },
    {
      "cell_type": "code",
      "source": [
        "import math"
      ],
      "metadata": {
        "id": "ko5QOMN8Byzm"
      },
      "execution_count": 11,
      "outputs": []
    },
    {
      "cell_type": "code",
      "source": [
        "# haversine formula to calculate distance in kilometers\n",
        "def haver(lon1, lat1, lon2, lat2):\n",
        "    R = 6371\n",
        "    phi1 = math.radians(lat1)\n",
        "    phi2 = math.radians(lat2)\n",
        "    delta_phi = math.radians(lat2 - lat1)\n",
        "    delta_lambda = math.radians(lon2 - lon1)\n",
        "\n",
        "    a = math.sin(delta_phi / 2) ** 2 + math.cos(phi1) * math.cos(phi2) * math.sin(delta_lambda / 2) ** 2\n",
        "    c = 2 * math.atan2(math.sqrt(a), math.sqrt(1 - a))\n",
        "    return R * c"
      ],
      "metadata": {
        "id": "o2C-KsiCBf2F"
      },
      "execution_count": 16,
      "outputs": []
    },
    {
      "cell_type": "code",
      "source": [
        "from pyspark.sql.functions import udf\n",
        "from pyspark.sql.types import DoubleType"
      ],
      "metadata": {
        "id": "DX2lPooFBuFZ"
      },
      "execution_count": 15,
      "outputs": []
    },
    {
      "cell_type": "code",
      "source": [
        "haversine_udf = udf(haver, DoubleType())"
      ],
      "metadata": {
        "id": "UB9SjIiYCQpH"
      },
      "execution_count": 17,
      "outputs": []
    },
    {
      "cell_type": "code",
      "source": [
        "df = df.withColumn('distance', haversine_udf(col('pickup_longitude'), col('pickup_latitude'),\n",
        "                                             col('dropoff_longitude'), col('dropoff_latitude')))"
      ],
      "metadata": {
        "id": "RNpBEeVrCq9d"
      },
      "execution_count": 18,
      "outputs": []
    },
    {
      "cell_type": "code",
      "source": [
        "df.show()"
      ],
      "metadata": {
        "colab": {
          "base_uri": "https://localhost:8080/"
        },
        "id": "z_oU9vdECr5U",
        "outputId": "ad278d7e-a499-45ed-a5a7-c58381a0c136"
      },
      "execution_count": 20,
      "outputs": [
        {
          "output_type": "stream",
          "name": "stdout",
          "text": [
            "+-------------------+-----------+-------------------+------------------+----------------+------------------+----------------+---------------+----+-------+------------------+\n",
            "|                key|fare_amount|    pickup_datetime|  pickup_longitude| pickup_latitude| dropoff_longitude|dropoff_latitude|passenger_count|hour|weekday|          distance|\n",
            "+-------------------+-----------+-------------------+------------------+----------------+------------------+----------------+---------------+----+-------+------------------+\n",
            "|2011-01-24 18:05:00|        9.3|2011-01-24 18:05:00|        -73.983768|       40.738037|        -73.982185|       40.757298|              1|  18|      2|2.1458729965365486|\n",
            "|2013-04-23 20:57:00|        5.0|2013-04-23 20:57:00|        -73.967943|       40.799842|         -73.96482|       40.810153|              1|  20|      3|1.1762763983398539|\n",
            "|2011-01-09 03:01:00|       16.5|2011-01-09 03:01:00|        -73.983637|       40.760198|        -73.942912|       40.824983|              2|   3|      1|7.9779644587435055|\n",
            "|2010-04-07 04:15:00|        8.1|2010-04-07 04:15:00|        -74.002312|       40.733603|        -73.985807|       40.762793|              2|   4|      4|3.5310383190799874|\n",
            "|2013-11-05 16:53:00|      51.83|2013-11-05 16:53:00|        -73.863982|       40.769815|        -74.009212|       40.715652|              1|  16|      3|13.637107668453401|\n",
            "|2012-09-22 08:55:00|        6.0|2012-09-22 08:55:00|        -73.981315|       40.737235|        -73.995363|       40.727147|              1|   8|      7| 1.630765168570371|\n",
            "|2014-07-02 11:13:00|        8.5|2014-07-02 11:13:00|         -73.99502|       40.760252|         -73.99167|       40.750097|              1|  11|      4|1.1639069312374977|\n",
            "|2015-03-02 18:24:00|        6.5|2015-03-02 18:24:00|-73.98355865478516|40.7229118347168|-73.98355865478516|40.7229118347168|              1|  18|      2|               0.0|\n",
            "|2012-10-25 09:54:00|        6.0|2012-10-25 09:54:00|        -73.988803|       40.742032|        -73.991405|       40.729857|              1|   9|      5|1.3714344021708167|\n",
            "|2011-07-21 13:19:22|       20.1|2011-07-21 13:19:22|        -73.977673|        40.73402|        -73.956222|       40.803914|              1|  13|      5| 7.979039944127258|\n",
            "|2012-01-26 11:33:26|        6.9|2012-01-26 11:33:26|        -73.959988|       40.773705|        -73.946316|       40.772626|              1|  11|      5|1.1575269824778318|\n",
            "|2014-10-12 08:03:21|       10.5|2014-10-12 08:03:21|        -73.954558|       40.774135|        -73.987196|       40.761023|              1|   8|      1| 3.111366333773797|\n",
            "|2009-08-01 07:36:00|       12.1|2009-08-01 07:36:00|        -73.948088|        40.78994|        -73.937205|       40.827587|              4|   7|      7| 4.285189823947375|\n",
            "|2011-02-22 07:28:00|        3.7|2011-02-22 07:28:00|        -73.976793|       40.756102|        -73.977407|       40.762525|              1|   7|      3|0.7160748509260078|\n",
            "|2009-01-17 14:19:00|        7.7|2009-01-17 14:19:00|        -73.988357|       40.756992|         -73.99368|       40.753683|              5|  14|      7|0.5800078638226034|\n",
            "|2013-08-20 04:58:00|      30.33|2013-08-20 04:58:00|        -73.955457|       40.819867|         -73.86548|       40.770825|              5|   4|      3| 9.333111020080008|\n",
            "|2014-03-19 22:50:00|        5.5|2014-03-19 22:50:00|         -73.98308|       40.744015|        -73.996143|       40.737145|              1|  22|      4|1.3396883396318264|\n",
            "|2014-06-12 22:57:00|        7.0|2014-06-12 22:57:00|        -73.969208|       40.676828|        -73.956772|        40.65964|              1|  22|      5|  2.18010773135245|\n",
            "|2014-10-29 07:35:00|        9.0|2014-10-29 07:35:00|        -73.972208|        40.78133|        -73.951677|       40.769692|              2|   7|      4|2.1595040807696018|\n",
            "|2011-06-13 10:17:04|        5.7|2011-06-13 10:17:04|        -73.976535|       40.763928|        -73.968834|       40.768972|              1|  10|      2|0.8574328968603462|\n",
            "+-------------------+-----------+-------------------+------------------+----------------+------------------+----------------+---------------+----+-------+------------------+\n",
            "only showing top 20 rows\n",
            "\n"
          ]
        }
      ]
    },
    {
      "cell_type": "code",
      "source": [
        "df.describe().show()"
      ],
      "metadata": {
        "colab": {
          "base_uri": "https://localhost:8080/"
        },
        "id": "uQ78-FtpCsjH",
        "outputId": "72a8ba35-07f3-405b-bb67-4a1a002f5cd6"
      },
      "execution_count": 23,
      "outputs": [
        {
          "output_type": "stream",
          "name": "stdout",
          "text": [
            "+-------+------------------+------------------+------------------+------------------+------------------+------------------+------------------+------------------+------------------+\n",
            "|summary|       fare_amount|  pickup_longitude|   pickup_latitude| dropoff_longitude|  dropoff_latitude|   passenger_count|              hour|           weekday|          distance|\n",
            "+-------+------------------+------------------+------------------+------------------+------------------+------------------+------------------+------------------+------------------+\n",
            "|  count|             99992|             99992|             99992|             99992|             99992|             99992|             99992|             99992|             99992|\n",
            "|   mean|11.315218717497261|-72.57109926737286|39.934360387990374|-72.52166899547261| 39.93337016533233|1.6895751660132812|13.524651972157773|4.1243299463957115|19.366049747204563|\n",
            "| stddev| 9.666784394358563|11.420298436830718| 6.516786680334995|15.139879574813945|7.0940829992023176| 1.311311896548885| 6.526736257475255|1.9926315899641032| 365.1029446869968|\n",
            "|    min|              0.01|      -1329.480383|         -764.5646|           -735.05|      -1160.217295|                 0|                 0|                 1|               0.0|\n",
            "|    max|             332.0|         40.786837|         52.521408|       3382.125693|         73.961092|                 6|                23|                 7| 8675.056848776103|\n",
            "+-------+------------------+------------------+------------------+------------------+------------------+------------------+------------------+------------------+------------------+\n",
            "\n"
          ]
        }
      ]
    },
    {
      "cell_type": "code",
      "source": [
        "df.printSchema()"
      ],
      "metadata": {
        "colab": {
          "base_uri": "https://localhost:8080/"
        },
        "id": "NvYTS6FACz05",
        "outputId": "d9fd54a0-d719-4ba9-ea11-aa805f4bd7e5"
      },
      "execution_count": 24,
      "outputs": [
        {
          "output_type": "stream",
          "name": "stdout",
          "text": [
            "root\n",
            " |-- key: timestamp (nullable = true)\n",
            " |-- fare_amount: double (nullable = true)\n",
            " |-- pickup_datetime: timestamp (nullable = true)\n",
            " |-- pickup_longitude: double (nullable = true)\n",
            " |-- pickup_latitude: double (nullable = true)\n",
            " |-- dropoff_longitude: double (nullable = true)\n",
            " |-- dropoff_latitude: double (nullable = true)\n",
            " |-- passenger_count: integer (nullable = true)\n",
            " |-- hour: integer (nullable = true)\n",
            " |-- weekday: integer (nullable = true)\n",
            " |-- distance: double (nullable = true)\n",
            "\n"
          ]
        }
      ]
    },
    {
      "cell_type": "code",
      "source": [
        "df.dtypes"
      ],
      "metadata": {
        "colab": {
          "base_uri": "https://localhost:8080/"
        },
        "id": "IyBLkWPqDKbS",
        "outputId": "076c74ed-b0f4-4891-8468-2668d4b6a1b2"
      },
      "execution_count": 26,
      "outputs": [
        {
          "output_type": "execute_result",
          "data": {
            "text/plain": [
              "[('key', 'timestamp'),\n",
              " ('fare_amount', 'double'),\n",
              " ('pickup_datetime', 'timestamp'),\n",
              " ('pickup_longitude', 'double'),\n",
              " ('pickup_latitude', 'double'),\n",
              " ('dropoff_longitude', 'double'),\n",
              " ('dropoff_latitude', 'double'),\n",
              " ('passenger_count', 'int'),\n",
              " ('hour', 'int'),\n",
              " ('weekday', 'int'),\n",
              " ('distance', 'double')]"
            ]
          },
          "metadata": {},
          "execution_count": 26
        }
      ]
    },
    {
      "cell_type": "code",
      "source": [
        "df.distinct().count()"
      ],
      "metadata": {
        "colab": {
          "base_uri": "https://localhost:8080/"
        },
        "id": "jgEEyC2yDR9V",
        "outputId": "9b7221fb-eaa7-4141-a4cd-7aacc4fb329e"
      },
      "execution_count": 31,
      "outputs": [
        {
          "output_type": "execute_result",
          "data": {
            "text/plain": [
              "99992"
            ]
          },
          "metadata": {},
          "execution_count": 31
        }
      ]
    },
    {
      "cell_type": "code",
      "source": [
        "df.count()"
      ],
      "metadata": {
        "colab": {
          "base_uri": "https://localhost:8080/"
        },
        "id": "OIvXqaQDD5zT",
        "outputId": "97a5ca10-6ec3-45f1-91dd-41b84e1d2397"
      },
      "execution_count": 32,
      "outputs": [
        {
          "output_type": "execute_result",
          "data": {
            "text/plain": [
              "99992"
            ]
          },
          "metadata": {},
          "execution_count": 32
        }
      ]
    },
    {
      "cell_type": "code",
      "source": [
        "df = df.withColumn('distance', haversine_udf(col('pickup_longitude'), col('pickup_latitude'),\n",
        "                                             col('dropoff_longitude'), col('dropoff_latitude')))"
      ],
      "metadata": {
        "id": "zxKNNp1HEhwG"
      },
      "execution_count": 33,
      "outputs": []
    },
    {
      "cell_type": "code",
      "source": [
        "from pyspark.ml.feature import VectorAssembler, StandardScaler\n",
        "from pyspark.ml.regression import RandomForestRegressor\n",
        "from pyspark.ml.evaluation import RegressionEvaluator"
      ],
      "metadata": {
        "id": "Bi1YeCGdFO3n"
      },
      "execution_count": 34,
      "outputs": []
    },
    {
      "cell_type": "code",
      "source": [
        "assembler = VectorAssembler(inputCols=['hour', 'weekday', 'distance', 'passenger_count'], outputCol='features')\n",
        "df = assembler.transform(df)"
      ],
      "metadata": {
        "id": "lHT75rQNFa6X"
      },
      "execution_count": 36,
      "outputs": []
    },
    {
      "cell_type": "code",
      "source": [
        "train_data, test_data = df.randomSplit([0.8, 0.2], seed=123)\n",
        "\n",
        "rf = RandomForestRegressor(featuresCol='features', labelCol='fare_amount')\n",
        "model = rf.fit(train_data)"
      ],
      "metadata": {
        "id": "Um7Oq23eExMg"
      },
      "execution_count": 37,
      "outputs": []
    },
    {
      "cell_type": "code",
      "source": [
        "predictions = model.transform(test_data)\n",
        "\n",
        "evaluator = RegressionEvaluator(labelCol='fare_amount', predictionCol='prediction', metricName='rmse')\n",
        "rmse = evaluator.evaluate(predictions)"
      ],
      "metadata": {
        "id": "_lMq4UGjFOQK"
      },
      "execution_count": 38,
      "outputs": []
    },
    {
      "cell_type": "code",
      "source": [
        "rmse"
      ],
      "metadata": {
        "colab": {
          "base_uri": "https://localhost:8080/"
        },
        "id": "yLjnR_5XFt-r",
        "outputId": "d1bfcf70-71c2-40d2-8e56-a56e40062ab3"
      },
      "execution_count": 39,
      "outputs": [
        {
          "output_type": "execute_result",
          "data": {
            "text/plain": [
              "5.229298620718952"
            ]
          },
          "metadata": {},
          "execution_count": 39
        }
      ]
    },
    {
      "cell_type": "code",
      "source": [],
      "metadata": {
        "colab": {
          "base_uri": "https://localhost:8080/",
          "height": 263
        },
        "id": "xsr_qIkDFvW9",
        "outputId": "01576c7a-9abe-441a-a3d1-1cd8dc1223f9"
      },
      "execution_count": 40,
      "outputs": [
        {
          "output_type": "error",
          "ename": "AttributeError",
          "evalue": "'DataFrame' object has no attribute 'accuracy'",
          "traceback": [
            "\u001b[0;31m---------------------------------------------------------------------------\u001b[0m",
            "\u001b[0;31mAttributeError\u001b[0m                            Traceback (most recent call last)",
            "\u001b[0;32m<ipython-input-40-f78b0dc89004>\u001b[0m in \u001b[0;36m<cell line: 0>\u001b[0;34m()\u001b[0m\n\u001b[0;32m----> 1\u001b[0;31m \u001b[0mpredictions\u001b[0m\u001b[0;34m.\u001b[0m\u001b[0maccuracy\u001b[0m\u001b[0;34m\u001b[0m\u001b[0;34m\u001b[0m\u001b[0m\n\u001b[0m",
            "\u001b[0;32m/usr/local/lib/python3.11/dist-packages/pyspark/sql/dataframe.py\u001b[0m in \u001b[0;36m__getattr__\u001b[0;34m(self, name)\u001b[0m\n\u001b[1;32m   3127\u001b[0m         \"\"\"\n\u001b[1;32m   3128\u001b[0m         \u001b[0;32mif\u001b[0m \u001b[0mname\u001b[0m \u001b[0;32mnot\u001b[0m \u001b[0;32min\u001b[0m \u001b[0mself\u001b[0m\u001b[0;34m.\u001b[0m\u001b[0mcolumns\u001b[0m\u001b[0;34m:\u001b[0m\u001b[0;34m\u001b[0m\u001b[0;34m\u001b[0m\u001b[0m\n\u001b[0;32m-> 3129\u001b[0;31m             raise AttributeError(\n\u001b[0m\u001b[1;32m   3130\u001b[0m                 \u001b[0;34m\"'%s' object has no attribute '%s'\"\u001b[0m \u001b[0;34m%\u001b[0m \u001b[0;34m(\u001b[0m\u001b[0mself\u001b[0m\u001b[0;34m.\u001b[0m\u001b[0m__class__\u001b[0m\u001b[0;34m.\u001b[0m\u001b[0m__name__\u001b[0m\u001b[0;34m,\u001b[0m \u001b[0mname\u001b[0m\u001b[0;34m)\u001b[0m\u001b[0;34m\u001b[0m\u001b[0;34m\u001b[0m\u001b[0m\n\u001b[1;32m   3131\u001b[0m             )\n",
            "\u001b[0;31mAttributeError\u001b[0m: 'DataFrame' object has no attribute 'accuracy'"
          ]
        }
      ]
    },
    {
      "cell_type": "code",
      "source": [],
      "metadata": {
        "colab": {
          "base_uri": "https://localhost:8080/",
          "height": 106
        },
        "id": "gKMLH1NaGR5-",
        "outputId": "f05715a4-ea9f-4746-f3de-a2210951842d"
      },
      "execution_count": 41,
      "outputs": [
        {
          "output_type": "error",
          "ename": "SyntaxError",
          "evalue": "invalid syntax (<ipython-input-41-f188d5ac1197>, line 1)",
          "traceback": [
            "\u001b[0;36m  File \u001b[0;32m\"<ipython-input-41-f188d5ac1197>\"\u001b[0;36m, line \u001b[0;32m1\u001b[0m\n\u001b[0;31m    git init\u001b[0m\n\u001b[0m        ^\u001b[0m\n\u001b[0;31mSyntaxError\u001b[0m\u001b[0;31m:\u001b[0m invalid syntax\n"
          ]
        }
      ]
    },
    {
      "cell_type": "code",
      "source": [],
      "metadata": {
        "id": "aS2zUBn9GgtZ"
      },
      "execution_count": null,
      "outputs": []
    }
  ]
}